{
 "cells": [
  {
   "cell_type": "code",
   "execution_count": 3,
   "metadata": {},
   "outputs": [
    {
     "ename": "ModuleNotFoundError",
     "evalue": "No module named 'torch'",
     "output_type": "error",
     "traceback": [
      "\u001b[0;31m---------------------------------------------------------------------------\u001b[0m",
      "\u001b[0;31mModuleNotFoundError\u001b[0m                       Traceback (most recent call last)",
      "Cell \u001b[0;32mIn[3], line 4\u001b[0m\n\u001b[1;32m      2\u001b[0m \u001b[39mimport\u001b[39;00m \u001b[39mglob\u001b[39;00m\n\u001b[1;32m      3\u001b[0m \u001b[39mimport\u001b[39;00m \u001b[39mos\u001b[39;00m\n\u001b[0;32m----> 4\u001b[0m \u001b[39mimport\u001b[39;00m \u001b[39mtorch\u001b[39;00m\n\u001b[1;32m      5\u001b[0m \u001b[39mimport\u001b[39;00m \u001b[39mre\u001b[39;00m\n\u001b[1;32m      6\u001b[0m \u001b[39mimport\u001b[39;00m \u001b[39mpandas\u001b[39;00m \u001b[39mas\u001b[39;00m \u001b[39mpd\u001b[39;00m\n",
      "\u001b[0;31mModuleNotFoundError\u001b[0m: No module named 'torch'"
     ]
    }
   ],
   "source": [
    "import argparse\n",
    "import glob\n",
    "import os\n",
    "import torch\n",
    "import re\n",
    "import pandas as pd\n",
    "from tensorboardX import SummaryWriter\n",
    "from torch.utils.data import DataLoader\n",
    "\n",
    "from config import get_evaluate_config\n",
    "from dataset import data_loader\n",
    "from eval.post_process import *\n",
    "from neural_methods.model.PhysNet import PhysNet_padding_Encoder_Decoder_MAX\n",
    "from neural_methods.model.TS_CAN import TSCAN\n",
    "from neural_methods.model.DeepPhys import DeepPhys\n",
    "from eval.post_process import *\n",
    "from collections import OrderedDict\n",
    "import random\n",
    "import numpy as np\n",
    "\n",
    "RANDOM_SEED = 100\n",
    "torch.manual_seed(RANDOM_SEED)\n",
    "torch.cuda.manual_seed(RANDOM_SEED)\n",
    "np.random.seed(RANDOM_SEED)\n",
    "random.seed(RANDOM_SEED)\n",
    "torch.backends.cudnn.deterministic = True\n",
    "torch.backends.cudnn.benchmark = False\n",
    "g = torch.Generator()\n",
    "g.manual_seed(RANDOM_SEED)"
   ]
  },
  {
   "cell_type": "code",
   "execution_count": null,
   "metadata": {},
   "outputs": [],
   "source": [
    "def add_args(parser):\n",
    "    \"\"\"Adds arguments for parser.\"\"\"\n",
    "    parser.add_argument('--config_file', required=False,\n",
    "                        default=\"configs/UBFC_TSCAN_EVALUATION.yaml\", type=str, help=\"The name of the model.\")\n",
    "    parser.add_argument(\n",
    "        '--device',\n",
    "        default=-1,\n",
    "        type=int,\n",
    "        help=\"An integer to specify which gpu to use, -1 for cpu.\")\n",
    "    parser.add_argument(\n",
    "        '--model_path', required=False, type=str)\n",
    "    parser.add_argument('--batch_size', default=1, type=int)\n",
    "    parser.add_argument('--test_data_path', default='/Users/zhangxiaoyu/Documents/Toolbox/DeepLearningProject/UBFC-Valid/subject1', required=False,\n",
    "                        type=str, help='The path of the data directory.')\n",
    "    parser.add_argument('--log_path', default=None, type=str)\n",
    "    return parser"
   ]
  },
  {
   "cell_type": "code",
   "execution_count": null,
   "metadata": {},
   "outputs": [],
   "source": [
    "parser = argparse.ArgumentParser()\n",
    "parser = add_args(parser)\n",
    "parser = data_loader.BaseLoader.BaseLoader.add_data_loader_args(parser)\n",
    "args = parser.parse_args()\n",
    "args.test_data_path = '/Users/zhangxiaoyu/Documents/Toolbox/DeepLearningProject/UBFC-Valid/subject1'\n",
    "args.model_path = '/Users/zhangxiaoyu/Documents/Toolbox/DeepLearningProject/rPPG-Toolbox-1/PreTrainedModels/UBFC_SizeW72_SizeH72_ClipLength180_DataTypeNormalized_Standardized_LabelTypeNormalized/tscan_train_ubfc.pth'\n",
    "\n",
    "# forms configurations.\n",
    "config = get_evaluate_config(args)\n",
    "print('=== Printing Config ===')"
   ]
  },
  {
   "cell_type": "code",
   "execution_count": null,
   "metadata": {},
   "outputs": [],
   "source": [
    "loader = data_loader.UBFCLoader.UBFCLoader\n"
   ]
  }
 ],
 "metadata": {
  "kernelspec": {
   "display_name": "toolbox",
   "language": "python",
   "name": "python3"
  },
  "language_info": {
   "codemirror_mode": {
    "name": "ipython",
    "version": 3
   },
   "file_extension": ".py",
   "mimetype": "text/x-python",
   "name": "python",
   "nbconvert_exporter": "python",
   "pygments_lexer": "ipython3",
   "version": "3.8.16"
  },
  "orig_nbformat": 4
 },
 "nbformat": 4,
 "nbformat_minor": 2
}
